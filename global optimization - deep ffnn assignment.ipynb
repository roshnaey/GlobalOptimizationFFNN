{
 "cells": [
  {
   "cell_type": "code",
   "execution_count": 1,
   "metadata": {},
   "outputs": [],
   "source": [
    "import torch\n",
    "import torch.nn as nn\n",
    "import torch.nn.functional as F\n",
    "import torch.utils.data\n",
    "import torchvision\n",
    "import torchvision.transforms as transforms\n",
    "import matplotlib.pyplot as plt"
   ]
  },
  {
   "cell_type": "code",
   "execution_count": 2,
   "metadata": {},
   "outputs": [
    {
     "name": "stderr",
     "output_type": "stream",
     "text": [
      "/Users/roshnaey/opt/anaconda3/lib/python3.8/site-packages/torchvision/datasets/mnist.py:498: UserWarning: The given NumPy array is not writeable, and PyTorch does not support non-writeable tensors. This means you can write to the underlying (supposedly non-writeable) NumPy array using the tensor. You may want to copy the array to protect its data or make it writeable before converting it to a tensor. This type of warning will be suppressed for the rest of this program. (Triggered internally at  ../torch/csrc/utils/tensor_numpy.cpp:180.)\n",
      "  return torch.from_numpy(parsed.astype(m[2], copy=False)).view(*s)\n"
     ]
    }
   ],
   "source": [
    "train_set = torchvision.datasets.MNIST(root = 'image_data/', train = True, download = True, transform = transforms.ToTensor())"
   ]
  },
  {
   "cell_type": "code",
   "execution_count": 3,
   "metadata": {},
   "outputs": [
    {
     "data": {
      "text/plain": [
       "60000"
      ]
     },
     "execution_count": 3,
     "metadata": {},
     "output_type": "execute_result"
    }
   ],
   "source": [
    "len(train_set)"
   ]
  },
  {
   "cell_type": "code",
   "execution_count": 4,
   "metadata": {},
   "outputs": [],
   "source": [
    "test_set = torchvision.datasets.MNIST(root = 'image_data/', train = False, download = True, transform = transforms.ToTensor())"
   ]
  },
  {
   "cell_type": "code",
   "execution_count": 5,
   "metadata": {},
   "outputs": [
    {
     "data": {
      "text/plain": [
       "10000"
      ]
     },
     "execution_count": 5,
     "metadata": {},
     "output_type": "execute_result"
    }
   ],
   "source": [
    "len(test_set)"
   ]
  },
  {
   "cell_type": "code",
   "execution_count": 6,
   "metadata": {},
   "outputs": [
    {
     "data": {
      "text/plain": [
       "torch.Size([1, 28, 28])"
      ]
     },
     "execution_count": 6,
     "metadata": {},
     "output_type": "execute_result"
    }
   ],
   "source": [
    "img, lbl = train_set[0]\n",
    "img.shape"
   ]
  },
  {
   "cell_type": "code",
   "execution_count": 7,
   "metadata": {},
   "outputs": [
    {
     "data": {
      "text/plain": [
       "tensor([[[0.0000, 0.0000, 0.0000, 0.0000, 0.0000, 0.0000, 0.0000, 0.0000,\n",
       "          0.0000, 0.0000, 0.0000, 0.0000, 0.0000, 0.0000, 0.0000, 0.0000,\n",
       "          0.0000, 0.0000, 0.0000, 0.0000, 0.0000, 0.0000, 0.0000, 0.0000,\n",
       "          0.0000, 0.0000, 0.0000, 0.0000],\n",
       "         [0.0000, 0.0000, 0.0000, 0.0000, 0.0000, 0.0000, 0.0000, 0.0000,\n",
       "          0.0000, 0.0000, 0.0000, 0.0000, 0.0000, 0.0000, 0.0000, 0.0000,\n",
       "          0.0000, 0.0000, 0.0000, 0.0000, 0.0000, 0.0000, 0.0000, 0.0000,\n",
       "          0.0000, 0.0000, 0.0000, 0.0000],\n",
       "         [0.0000, 0.0000, 0.0000, 0.0000, 0.0000, 0.0000, 0.0000, 0.0000,\n",
       "          0.0000, 0.0000, 0.0000, 0.0000, 0.0000, 0.0000, 0.0000, 0.0000,\n",
       "          0.0000, 0.0000, 0.0000, 0.0000, 0.0000, 0.0000, 0.0000, 0.0000,\n",
       "          0.0000, 0.0000, 0.0000, 0.0000],\n",
       "         [0.0000, 0.0000, 0.0000, 0.0000, 0.0000, 0.0000, 0.0000, 0.0000,\n",
       "          0.0000, 0.0000, 0.0000, 0.0000, 0.0000, 0.0000, 0.0000, 0.0000,\n",
       "          0.0000, 0.0000, 0.0000, 0.0000, 0.0000, 0.0000, 0.0000, 0.0000,\n",
       "          0.0000, 0.0000, 0.0000, 0.0000],\n",
       "         [0.0000, 0.0000, 0.0000, 0.0000, 0.0000, 0.0000, 0.0000, 0.0000,\n",
       "          0.0000, 0.0000, 0.0000, 0.0000, 0.0000, 0.0000, 0.0000, 0.0000,\n",
       "          0.0000, 0.0000, 0.0000, 0.0000, 0.0000, 0.0000, 0.0000, 0.0000,\n",
       "          0.0000, 0.0000, 0.0000, 0.0000],\n",
       "         [0.0000, 0.0000, 0.0000, 0.0000, 0.0000, 0.0000, 0.0000, 0.0000,\n",
       "          0.0000, 0.0000, 0.0000, 0.0000, 0.0118, 0.0706, 0.0706, 0.0706,\n",
       "          0.4941, 0.5333, 0.6863, 0.1020, 0.6510, 1.0000, 0.9686, 0.4980,\n",
       "          0.0000, 0.0000, 0.0000, 0.0000],\n",
       "         [0.0000, 0.0000, 0.0000, 0.0000, 0.0000, 0.0000, 0.0000, 0.0000,\n",
       "          0.1176, 0.1412, 0.3686, 0.6039, 0.6667, 0.9922, 0.9922, 0.9922,\n",
       "          0.9922, 0.9922, 0.8824, 0.6745, 0.9922, 0.9490, 0.7647, 0.2510,\n",
       "          0.0000, 0.0000, 0.0000, 0.0000],\n",
       "         [0.0000, 0.0000, 0.0000, 0.0000, 0.0000, 0.0000, 0.0000, 0.1922,\n",
       "          0.9333, 0.9922, 0.9922, 0.9922, 0.9922, 0.9922, 0.9922, 0.9922,\n",
       "          0.9922, 0.9843, 0.3647, 0.3216, 0.3216, 0.2196, 0.1529, 0.0000,\n",
       "          0.0000, 0.0000, 0.0000, 0.0000],\n",
       "         [0.0000, 0.0000, 0.0000, 0.0000, 0.0000, 0.0000, 0.0000, 0.0706,\n",
       "          0.8588, 0.9922, 0.9922, 0.9922, 0.9922, 0.9922, 0.7765, 0.7137,\n",
       "          0.9686, 0.9451, 0.0000, 0.0000, 0.0000, 0.0000, 0.0000, 0.0000,\n",
       "          0.0000, 0.0000, 0.0000, 0.0000],\n",
       "         [0.0000, 0.0000, 0.0000, 0.0000, 0.0000, 0.0000, 0.0000, 0.0000,\n",
       "          0.3137, 0.6118, 0.4196, 0.9922, 0.9922, 0.8039, 0.0431, 0.0000,\n",
       "          0.1686, 0.6039, 0.0000, 0.0000, 0.0000, 0.0000, 0.0000, 0.0000,\n",
       "          0.0000, 0.0000, 0.0000, 0.0000],\n",
       "         [0.0000, 0.0000, 0.0000, 0.0000, 0.0000, 0.0000, 0.0000, 0.0000,\n",
       "          0.0000, 0.0549, 0.0039, 0.6039, 0.9922, 0.3529, 0.0000, 0.0000,\n",
       "          0.0000, 0.0000, 0.0000, 0.0000, 0.0000, 0.0000, 0.0000, 0.0000,\n",
       "          0.0000, 0.0000, 0.0000, 0.0000],\n",
       "         [0.0000, 0.0000, 0.0000, 0.0000, 0.0000, 0.0000, 0.0000, 0.0000,\n",
       "          0.0000, 0.0000, 0.0000, 0.5451, 0.9922, 0.7451, 0.0078, 0.0000,\n",
       "          0.0000, 0.0000, 0.0000, 0.0000, 0.0000, 0.0000, 0.0000, 0.0000,\n",
       "          0.0000, 0.0000, 0.0000, 0.0000],\n",
       "         [0.0000, 0.0000, 0.0000, 0.0000, 0.0000, 0.0000, 0.0000, 0.0000,\n",
       "          0.0000, 0.0000, 0.0000, 0.0431, 0.7451, 0.9922, 0.2745, 0.0000,\n",
       "          0.0000, 0.0000, 0.0000, 0.0000, 0.0000, 0.0000, 0.0000, 0.0000,\n",
       "          0.0000, 0.0000, 0.0000, 0.0000],\n",
       "         [0.0000, 0.0000, 0.0000, 0.0000, 0.0000, 0.0000, 0.0000, 0.0000,\n",
       "          0.0000, 0.0000, 0.0000, 0.0000, 0.1373, 0.9451, 0.8824, 0.6275,\n",
       "          0.4235, 0.0039, 0.0000, 0.0000, 0.0000, 0.0000, 0.0000, 0.0000,\n",
       "          0.0000, 0.0000, 0.0000, 0.0000],\n",
       "         [0.0000, 0.0000, 0.0000, 0.0000, 0.0000, 0.0000, 0.0000, 0.0000,\n",
       "          0.0000, 0.0000, 0.0000, 0.0000, 0.0000, 0.3176, 0.9412, 0.9922,\n",
       "          0.9922, 0.4667, 0.0980, 0.0000, 0.0000, 0.0000, 0.0000, 0.0000,\n",
       "          0.0000, 0.0000, 0.0000, 0.0000],\n",
       "         [0.0000, 0.0000, 0.0000, 0.0000, 0.0000, 0.0000, 0.0000, 0.0000,\n",
       "          0.0000, 0.0000, 0.0000, 0.0000, 0.0000, 0.0000, 0.1765, 0.7294,\n",
       "          0.9922, 0.9922, 0.5882, 0.1059, 0.0000, 0.0000, 0.0000, 0.0000,\n",
       "          0.0000, 0.0000, 0.0000, 0.0000],\n",
       "         [0.0000, 0.0000, 0.0000, 0.0000, 0.0000, 0.0000, 0.0000, 0.0000,\n",
       "          0.0000, 0.0000, 0.0000, 0.0000, 0.0000, 0.0000, 0.0000, 0.0627,\n",
       "          0.3647, 0.9882, 0.9922, 0.7333, 0.0000, 0.0000, 0.0000, 0.0000,\n",
       "          0.0000, 0.0000, 0.0000, 0.0000],\n",
       "         [0.0000, 0.0000, 0.0000, 0.0000, 0.0000, 0.0000, 0.0000, 0.0000,\n",
       "          0.0000, 0.0000, 0.0000, 0.0000, 0.0000, 0.0000, 0.0000, 0.0000,\n",
       "          0.0000, 0.9765, 0.9922, 0.9765, 0.2510, 0.0000, 0.0000, 0.0000,\n",
       "          0.0000, 0.0000, 0.0000, 0.0000],\n",
       "         [0.0000, 0.0000, 0.0000, 0.0000, 0.0000, 0.0000, 0.0000, 0.0000,\n",
       "          0.0000, 0.0000, 0.0000, 0.0000, 0.0000, 0.0000, 0.1804, 0.5098,\n",
       "          0.7176, 0.9922, 0.9922, 0.8118, 0.0078, 0.0000, 0.0000, 0.0000,\n",
       "          0.0000, 0.0000, 0.0000, 0.0000],\n",
       "         [0.0000, 0.0000, 0.0000, 0.0000, 0.0000, 0.0000, 0.0000, 0.0000,\n",
       "          0.0000, 0.0000, 0.0000, 0.0000, 0.1529, 0.5804, 0.8980, 0.9922,\n",
       "          0.9922, 0.9922, 0.9804, 0.7137, 0.0000, 0.0000, 0.0000, 0.0000,\n",
       "          0.0000, 0.0000, 0.0000, 0.0000],\n",
       "         [0.0000, 0.0000, 0.0000, 0.0000, 0.0000, 0.0000, 0.0000, 0.0000,\n",
       "          0.0000, 0.0000, 0.0941, 0.4471, 0.8667, 0.9922, 0.9922, 0.9922,\n",
       "          0.9922, 0.7882, 0.3059, 0.0000, 0.0000, 0.0000, 0.0000, 0.0000,\n",
       "          0.0000, 0.0000, 0.0000, 0.0000],\n",
       "         [0.0000, 0.0000, 0.0000, 0.0000, 0.0000, 0.0000, 0.0000, 0.0000,\n",
       "          0.0902, 0.2588, 0.8353, 0.9922, 0.9922, 0.9922, 0.9922, 0.7765,\n",
       "          0.3176, 0.0078, 0.0000, 0.0000, 0.0000, 0.0000, 0.0000, 0.0000,\n",
       "          0.0000, 0.0000, 0.0000, 0.0000],\n",
       "         [0.0000, 0.0000, 0.0000, 0.0000, 0.0000, 0.0000, 0.0706, 0.6706,\n",
       "          0.8588, 0.9922, 0.9922, 0.9922, 0.9922, 0.7647, 0.3137, 0.0353,\n",
       "          0.0000, 0.0000, 0.0000, 0.0000, 0.0000, 0.0000, 0.0000, 0.0000,\n",
       "          0.0000, 0.0000, 0.0000, 0.0000],\n",
       "         [0.0000, 0.0000, 0.0000, 0.0000, 0.2157, 0.6745, 0.8863, 0.9922,\n",
       "          0.9922, 0.9922, 0.9922, 0.9569, 0.5216, 0.0431, 0.0000, 0.0000,\n",
       "          0.0000, 0.0000, 0.0000, 0.0000, 0.0000, 0.0000, 0.0000, 0.0000,\n",
       "          0.0000, 0.0000, 0.0000, 0.0000],\n",
       "         [0.0000, 0.0000, 0.0000, 0.0000, 0.5333, 0.9922, 0.9922, 0.9922,\n",
       "          0.8314, 0.5294, 0.5176, 0.0627, 0.0000, 0.0000, 0.0000, 0.0000,\n",
       "          0.0000, 0.0000, 0.0000, 0.0000, 0.0000, 0.0000, 0.0000, 0.0000,\n",
       "          0.0000, 0.0000, 0.0000, 0.0000],\n",
       "         [0.0000, 0.0000, 0.0000, 0.0000, 0.0000, 0.0000, 0.0000, 0.0000,\n",
       "          0.0000, 0.0000, 0.0000, 0.0000, 0.0000, 0.0000, 0.0000, 0.0000,\n",
       "          0.0000, 0.0000, 0.0000, 0.0000, 0.0000, 0.0000, 0.0000, 0.0000,\n",
       "          0.0000, 0.0000, 0.0000, 0.0000],\n",
       "         [0.0000, 0.0000, 0.0000, 0.0000, 0.0000, 0.0000, 0.0000, 0.0000,\n",
       "          0.0000, 0.0000, 0.0000, 0.0000, 0.0000, 0.0000, 0.0000, 0.0000,\n",
       "          0.0000, 0.0000, 0.0000, 0.0000, 0.0000, 0.0000, 0.0000, 0.0000,\n",
       "          0.0000, 0.0000, 0.0000, 0.0000],\n",
       "         [0.0000, 0.0000, 0.0000, 0.0000, 0.0000, 0.0000, 0.0000, 0.0000,\n",
       "          0.0000, 0.0000, 0.0000, 0.0000, 0.0000, 0.0000, 0.0000, 0.0000,\n",
       "          0.0000, 0.0000, 0.0000, 0.0000, 0.0000, 0.0000, 0.0000, 0.0000,\n",
       "          0.0000, 0.0000, 0.0000, 0.0000]]])"
      ]
     },
     "execution_count": 7,
     "metadata": {},
     "output_type": "execute_result"
    }
   ],
   "source": [
    "img"
   ]
  },
  {
   "cell_type": "code",
   "execution_count": 8,
   "metadata": {},
   "outputs": [
    {
     "data": {
      "text/plain": [
       "<matplotlib.image.AxesImage at 0x7fd291404c70>"
      ]
     },
     "execution_count": 8,
     "metadata": {},
     "output_type": "execute_result"
    },
    {
     "data": {
      "image/png": "[encoded data removed]",
      "text/plain": [
       "<Figure size 432x288 with 1 Axes>"
      ]
     },
     "metadata": {
      "needs_background": "light"
     },
     "output_type": "display_data"
    }
   ],
   "source": [
    "plt.imshow(img.view(28, 28), cmap = 'gray')"
   ]
  },
  {
   "cell_type": "code",
   "execution_count": 9,
   "metadata": {},
   "outputs": [
    {
     "data": {
      "text/plain": [
       "5"
      ]
     },
     "execution_count": 9,
     "metadata": {},
     "output_type": "execute_result"
    }
   ],
   "source": [
    "lbl"
   ]
  },
  {
   "cell_type": "markdown",
   "metadata": {},
   "source": [
    "#### Batch Size"
   ]
  },
  {
   "cell_type": "code",
   "execution_count": 10,
   "metadata": {},
   "outputs": [],
   "source": [
    "train_loader = torch.utils.data.DataLoader(train_set, batch_size = 275, shuffle = True)\n",
    "test_loader = torch.utils.data.DataLoader(test_set, batch_size = 270)"
   ]
  },
  {
   "cell_type": "code",
   "execution_count": 11,
   "metadata": {},
   "outputs": [
    {
     "data": {
      "text/plain": [
       "(torch.Size([275, 1, 28, 28]), torch.Size([275]))"
      ]
     },
     "execution_count": 11,
     "metadata": {},
     "output_type": "execute_result"
    }
   ],
   "source": [
    "tmp_data = iter(train_loader)\n",
    "img_batch, lbl_batch = tmp_data.next()\n",
    "img_batch.shape, lbl_batch.shape"
   ]
  },
  {
   "cell_type": "code",
   "execution_count": 12,
   "metadata": {},
   "outputs": [
    {
     "data": {
      "text/plain": [
       "219"
      ]
     },
     "execution_count": 12,
     "metadata": {},
     "output_type": "execute_result"
    }
   ],
   "source": [
    "len(tmp_data)"
   ]
  },
  {
   "cell_type": "markdown",
   "metadata": {},
   "source": [
    "#### Number of hidden layers"
   ]
  },
  {
   "cell_type": "code",
   "execution_count": 13,
   "metadata": {},
   "outputs": [],
   "source": [
    "class FFNN(nn.Module):\n",
    "    def __init__(self, _input_dim, _hidden_dim, _output_dim):\n",
    "        super(FFNN, self).__init__()\n",
    "        \n",
    "        #self.layer_one = nn.Linear(_input_dim, _hidden_dim)\n",
    "        #self.layer_two = nn.Linear(_hidden_dim, _output_dim)\n",
    "        \n",
    "        self.input_layer = nn.Linear(_input_dim, _hidden_dim[0])\n",
    "        self.hid_layer_one = nn.Linear(_hidden_dim[0], _hidden_dim[1])\n",
    "        self.hid_layer_two = nn.Linear(_hidden_dim[1], _hidden_dim[2])\n",
    "        self.hid_layer_three = nn.Linear(_hidden_dim[2], _hidden_dim[3])\n",
    "        self.hid_layer_four = nn.Linear(_hidden_dim[3], _hidden_dim[4])\n",
    "        self.output_layer = nn.Linear(_hidden_dim[4], _output_dim)\n",
    "\n",
    "\n",
    "\n",
    "        \n",
    "    def forward(self, _x):\n",
    "        #result = self.layer_one(_x)\n",
    "        #result = F.relu(result)\n",
    "        #result = self.layer_two(result)\n",
    "        \n",
    "        result = self.input_layer(_x)\n",
    "        result = F.relu(result)\n",
    "        \n",
    "        result = self.hid_layer_one(result)\n",
    "        result = F.relu(result)\n",
    "\n",
    "        result = self.hid_layer_two(result)\n",
    "        result = F.relu(result)\n",
    "\n",
    "        result = self.hid_layer_three(result)\n",
    "        result = F.relu(result)\n",
    "\n",
    "        result = self.hid_layer_four(result)\n",
    "        result = F.relu(result)\n",
    "\n",
    "\n",
    "        result = self.output_layer(result)\n",
    "        result = F.relu(result)        \n",
    "        \n",
    "        return result"
   ]
  },
  {
   "cell_type": "markdown",
   "metadata": {},
   "source": [
    "#### Neurons in hidden layers and epochs"
   ]
  },
  {
   "cell_type": "code",
   "execution_count": 14,
   "metadata": {},
   "outputs": [],
   "source": [
    "INP_DIM = img.shape[1] * img.shape[2]\n",
    "HID_DIM = [10, 30, 80, 65, 40]\n",
    "OUT_DIM = 10\n",
    "EPOCHS = 14"
   ]
  },
  {
   "cell_type": "code",
   "execution_count": 15,
   "metadata": {},
   "outputs": [
    {
     "name": "stdout",
     "output_type": "stream",
     "text": [
      "FFNN(\n",
      "  (input_layer): Linear(in_features=784, out_features=10, bias=True)\n",
      "  (hid_layer_one): Linear(in_features=10, out_features=30, bias=True)\n",
      "  (hid_layer_two): Linear(in_features=30, out_features=80, bias=True)\n",
      "  (hid_layer_three): Linear(in_features=80, out_features=65, bias=True)\n",
      "  (hid_layer_four): Linear(in_features=65, out_features=40, bias=True)\n",
      "  (output_layer): Linear(in_features=40, out_features=10, bias=True)\n",
      ")\n"
     ]
    }
   ],
   "source": [
    "ffnn_model = FFNN(INP_DIM, HID_DIM, OUT_DIM)\n",
    "print(ffnn_model)"
   ]
  },
  {
   "cell_type": "markdown",
   "metadata": {},
   "source": [
    "#### Learning rate"
   ]
  },
  {
   "cell_type": "code",
   "execution_count": 16,
   "metadata": {},
   "outputs": [],
   "source": [
    "loss_function = nn.CrossEntropyLoss()\n",
    "optimizer = torch.optim.Adam(ffnn_model.parameters(), lr=0.00001)"
   ]
  },
  {
   "cell_type": "code",
   "execution_count": 17,
   "metadata": {},
   "outputs": [
    {
     "name": "stdout",
     "output_type": "stream",
     "text": [
      "Epoch: 1/14\n",
      "average loss: 2.305199\n",
      "Epoch: 2/14\n",
      "average loss: 2.303327\n",
      "Epoch: 3/14\n",
      "average loss: 2.299941\n",
      "Epoch: 4/14\n",
      "average loss: 2.293969\n",
      "Epoch: 5/14\n",
      "average loss: 2.283969\n",
      "Epoch: 6/14\n",
      "average loss: 2.265394\n",
      "Epoch: 7/14\n",
      "average loss: 2.238851\n",
      "Epoch: 8/14\n",
      "average loss: 2.201427\n",
      "Epoch: 9/14\n",
      "average loss: 2.150038\n",
      "Epoch: 10/14\n",
      "average loss: 2.086569\n",
      "Epoch: 11/14\n",
      "average loss: 2.017292\n",
      "Epoch: 12/14\n",
      "average loss: 1.946643\n",
      "Epoch: 13/14\n",
      "average loss: 1.877584\n",
      "Epoch: 14/14\n",
      "average loss: 1.814559\n"
     ]
    }
   ],
   "source": [
    "for epoch in range(EPOCHS):\n",
    "    print('Epoch: {}/{}'.format(epoch + 1, EPOCHS))\n",
    "    batch_loss = []\n",
    "    for idx, (image_batch, label_batch) in enumerate(train_loader):\n",
    "        image_batch = image_batch.reshape(-1, INP_DIM)\n",
    "        pred_labels = ffnn_model(image_batch)\n",
    "        loss = loss_function(pred_labels, label_batch)\n",
    "        batch_loss.append(loss.item())\n",
    "        loss.backward()\n",
    "        optimizer.step()\n",
    "        optimizer.zero_grad()\n",
    "    print('average loss: {:.6f}'.format(sum(batch_loss)/len(batch_loss)))"
   ]
  },
  {
   "cell_type": "markdown",
   "metadata": {},
   "source": [
    "#### Accuracy"
   ]
  },
  {
   "cell_type": "code",
   "execution_count": 18,
   "metadata": {
    "scrolled": true
   },
   "outputs": [
    {
     "name": "stdout",
     "output_type": "stream",
     "text": [
      "accuracy: 43.5 percent\n"
     ]
    }
   ],
   "source": [
    "with torch.no_grad():\n",
    "    num_correct = 0\n",
    "    num_images = 0\n",
    "    for tst_img_batch, tst_lbl_batch in test_loader:\n",
    "        tst_img_batch = tst_img_batch.reshape(-1, INP_DIM)\n",
    "        result = ffnn_model(tst_img_batch)\n",
    "        _, predictions = torch.max(result, dim= 1)\n",
    "        num_images += tst_lbl_batch.shape[0]\n",
    "        num_correct += torch.sum(predictions == tst_lbl_batch).item()\n",
    "    accuracy = (num_correct/num_images) * 100.\n",
    "    \n",
    "print('accuracy: {} percent'.format(accuracy))"
   ]
  },
  {
   "cell_type": "markdown",
   "metadata": {},
   "source": [
    "# Global Optimization"
   ]
  },
  {
   "cell_type": "markdown",
   "metadata": {},
   "source": [
    "from: https://docs.ray.io/en/latest/tune/index.html"
   ]
  },
  {
   "cell_type": "code",
   "execution_count": 20,
   "metadata": {},
   "outputs": [],
   "source": [
    "from ray import tune\n",
    "import tensorboard"
   ]
  },
  {
   "cell_type": "code",
   "execution_count": 22,
   "metadata": {
    "scrolled": false
   },
   "outputs": [
    {
     "data": {
      "text/html": [
       "== Status ==<br>Current time: 2021-12-17 16:42:09 (running for 00:00:01.31)<br>Memory usage on this node: 10.0/16.0 GiB<br>Using FIFO scheduling algorithm.<br>Resources requested: 1.0/8 CPUs, 0/0 GPUs, 0.0/4.87 GiB heap, 0.0/2.43 GiB objects<br>Result logdir: /Users/roshnaey/ray_results/training_function_2021-12-17_16-42-08<br>Number of trials: 3/3 (2 PENDING, 1 RUNNING)<br><table>\n",
       "<thead>\n",
       "<tr><th>Trial name                   </th><th>status  </th><th>loc           </th><th style=\"text-align: right;\">  alpha</th><th style=\"text-align: right;\">  beta</th></tr>\n",
       "</thead>\n",
       "<tbody>\n",
       "<tr><td>training_function_2ef85_00000</td><td>RUNNING </td><td>127.0.0.1:9606</td><td style=\"text-align: right;\">  0.001</td><td style=\"text-align: right;\">     3</td></tr>\n",
       "<tr><td>training_function_2ef85_00001</td><td>PENDING </td><td>              </td><td style=\"text-align: right;\">  0.01 </td><td style=\"text-align: right;\">     1</td></tr>\n",
       "<tr><td>training_function_2ef85_00002</td><td>PENDING </td><td>              </td><td style=\"text-align: right;\">  0.1  </td><td style=\"text-align: right;\">     2</td></tr>\n",
       "</tbody>\n",
       "</table><br><br>"
      ],
      "text/plain": [
       "<IPython.core.display.HTML object>"
      ]
     },
     "metadata": {},
     "output_type": "display_data"
    },
    {
     "name": "stdout",
     "output_type": "stream",
     "text": [
      "Result for training_function_2ef85_00000:\n",
      "  date: 2021-12-17_16-42-09\n",
      "  done: false\n",
      "  experiment_id: 4c569f032d734ffda4322e08a85e8967\n",
      "  hostname: Roshnaeys-MBP.cfl.rr.com\n",
      "  iterations_since_restore: 1\n",
      "  mean_loss: 10.3\n",
      "  neg_mean_loss: -10.3\n",
      "  node_ip: 127.0.0.1\n",
      "  pid: 9606\n",
      "  time_since_restore: 0.0001399517059326172\n",
      "  time_this_iter_s: 0.0001399517059326172\n",
      "  time_total_s: 0.0001399517059326172\n",
      "  timestamp: 1639777329\n",
      "  timesteps_since_restore: 0\n",
      "  training_iteration: 1\n",
      "  trial_id: 2ef85_00000\n",
      "  \n",
      "Result for training_function_2ef85_00000:\n",
      "  date: 2021-12-17_16-42-09\n",
      "  done: true\n",
      "  experiment_id: 4c569f032d734ffda4322e08a85e8967\n",
      "  experiment_tag: 0_alpha=0.001,beta=3\n",
      "  hostname: Roshnaeys-MBP.cfl.rr.com\n",
      "  iterations_since_restore: 10\n",
      "  mean_loss: 10.291008092716554\n",
      "  neg_mean_loss: -10.291008092716554\n",
      "  node_ip: 127.0.0.1\n",
      "  pid: 9606\n",
      "  time_since_restore: 0.07705187797546387\n",
      "  time_this_iter_s: 0.005550861358642578\n",
      "  time_total_s: 0.07705187797546387\n",
      "  timestamp: 1639777329\n",
      "  timesteps_since_restore: 0\n",
      "  training_iteration: 10\n",
      "  trial_id: 2ef85_00000\n",
      "  \n",
      "Result for training_function_2ef85_00001:\n",
      "  date: 2021-12-17_16-42-10\n",
      "  done: false\n",
      "  experiment_id: 2a364c721f8d4fbbbe03c09529579967\n",
      "  hostname: Roshnaeys-MBP.cfl.rr.com\n",
      "  iterations_since_restore: 1\n",
      "  mean_loss: 10.1\n",
      "  neg_mean_loss: -10.1\n",
      "  node_ip: 127.0.0.1\n",
      "  pid: 9608\n",
      "  time_since_restore: 0.0004990100860595703\n",
      "  time_this_iter_s: 0.0004990100860595703\n",
      "  time_total_s: 0.0004990100860595703\n",
      "  timestamp: 1639777330\n",
      "  timesteps_since_restore: 0\n",
      "  training_iteration: 1\n",
      "  trial_id: 2ef85_00001\n",
      "  \n",
      "Result for training_function_2ef85_00002:\n",
      "  date: 2021-12-17_16-42-10\n",
      "  done: false\n",
      "  experiment_id: 788f698754cf4c789b51e36a5dcd620e\n",
      "  hostname: Roshnaeys-MBP.cfl.rr.com\n",
      "  iterations_since_restore: 1\n",
      "  mean_loss: 10.2\n",
      "  neg_mean_loss: -10.2\n",
      "  node_ip: 127.0.0.1\n",
      "  pid: 9611\n",
      "  time_since_restore: 0.0004622936248779297\n",
      "  time_this_iter_s: 0.0004622936248779297\n",
      "  time_total_s: 0.0004622936248779297\n",
      "  timestamp: 1639777330\n",
      "  timesteps_since_restore: 0\n",
      "  training_iteration: 1\n",
      "  trial_id: 2ef85_00002\n",
      "  \n",
      "Result for training_function_2ef85_00001:\n",
      "  date: 2021-12-17_16-42-10\n",
      "  done: true\n",
      "  experiment_id: 2a364c721f8d4fbbbe03c09529579967\n",
      "  experiment_tag: 1_alpha=0.01,beta=1\n",
      "  hostname: Roshnaeys-MBP.cfl.rr.com\n",
      "  iterations_since_restore: 10\n",
      "  mean_loss: 10.010802775024777\n",
      "  neg_mean_loss: -10.010802775024777\n",
      "  node_ip: 127.0.0.1\n",
      "  pid: 9608\n",
      "  time_since_restore: 0.16539406776428223\n",
      "  time_this_iter_s: 0.015702009201049805\n",
      "  time_total_s: 0.16539406776428223\n",
      "  timestamp: 1639777330\n",
      "  timesteps_since_restore: 0\n",
      "  training_iteration: 10\n",
      "  trial_id: 2ef85_00001\n",
      "  \n",
      "Result for training_function_2ef85_00002:\n",
      "  date: 2021-12-17_16-42-10\n",
      "  done: true\n",
      "  experiment_id: 788f698754cf4c789b51e36a5dcd620e\n",
      "  experiment_tag: 2_alpha=0.1,beta=2\n",
      "  hostname: Roshnaeys-MBP.cfl.rr.com\n",
      "  iterations_since_restore: 10\n",
      "  mean_loss: 9.374311926605502\n",
      "  neg_mean_loss: -9.374311926605502\n",
      "  node_ip: 127.0.0.1\n",
      "  pid: 9611\n",
      "  time_since_restore: 0.17877626419067383\n",
      "  time_this_iter_s: 0.028374195098876953\n",
      "  time_total_s: 0.17877626419067383\n",
      "  timestamp: 1639777330\n",
      "  timesteps_since_restore: 0\n",
      "  training_iteration: 10\n",
      "  trial_id: 2ef85_00002\n",
      "  \n"
     ]
    },
    {
     "data": {
      "text/html": [
       "== Status ==<br>Current time: 2021-12-17 16:42:10 (running for 00:00:02.77)<br>Memory usage on this node: 10.0/16.0 GiB<br>Using FIFO scheduling algorithm.<br>Resources requested: 0/8 CPUs, 0/0 GPUs, 0.0/4.87 GiB heap, 0.0/2.43 GiB objects<br>Result logdir: /Users/roshnaey/ray_results/training_function_2021-12-17_16-42-08<br>Number of trials: 3/3 (3 TERMINATED)<br><table>\n",
       "<thead>\n",
       "<tr><th>Trial name                   </th><th>status    </th><th>loc           </th><th style=\"text-align: right;\">  alpha</th><th style=\"text-align: right;\">  beta</th><th style=\"text-align: right;\">    loss</th><th style=\"text-align: right;\">  iter</th><th style=\"text-align: right;\">  total time (s)</th><th style=\"text-align: right;\">  neg_mean_loss</th></tr>\n",
       "</thead>\n",
       "<tbody>\n",
       "<tr><td>training_function_2ef85_00000</td><td>TERMINATED</td><td>127.0.0.1:9606</td><td style=\"text-align: right;\">  0.001</td><td style=\"text-align: right;\">     3</td><td style=\"text-align: right;\">10.291  </td><td style=\"text-align: right;\">    10</td><td style=\"text-align: right;\">       0.0770519</td><td style=\"text-align: right;\">      -10.291  </td></tr>\n",
       "<tr><td>training_function_2ef85_00001</td><td>TERMINATED</td><td>127.0.0.1:9608</td><td style=\"text-align: right;\">  0.01 </td><td style=\"text-align: right;\">     1</td><td style=\"text-align: right;\">10.0108 </td><td style=\"text-align: right;\">    10</td><td style=\"text-align: right;\">       0.165394 </td><td style=\"text-align: right;\">      -10.0108 </td></tr>\n",
       "<tr><td>training_function_2ef85_00002</td><td>TERMINATED</td><td>127.0.0.1:9611</td><td style=\"text-align: right;\">  0.1  </td><td style=\"text-align: right;\">     2</td><td style=\"text-align: right;\"> 9.37431</td><td style=\"text-align: right;\">    10</td><td style=\"text-align: right;\">       0.178776 </td><td style=\"text-align: right;\">       -9.37431</td></tr>\n",
       "</tbody>\n",
       "</table><br><br>"
      ],
      "text/plain": [
       "<IPython.core.display.HTML object>"
      ]
     },
     "metadata": {},
     "output_type": "display_data"
    },
    {
     "name": "stderr",
     "output_type": "stream",
     "text": [
      "2021-12-17 16:42:10,904\tINFO tune.py:626 -- Total run time: 2.90 seconds (2.73 seconds for the tuning loop).\n"
     ]
    },
    {
     "name": "stdout",
     "output_type": "stream",
     "text": [
      "Best config:  {'alpha': 0.1, 'beta': 2}\n"
     ]
    }
   ],
   "source": [
    "def objective(step, alpha, beta):\n",
    "    return (0.1 + alpha * step / 100)**(-1) + beta * 0.1\n",
    "\n",
    "\n",
    "def training_function(config):\n",
    "    # Hyperparameters\n",
    "    alpha, beta = config[\"alpha\"], config[\"beta\"]\n",
    "    for step in range(10):\n",
    "        # Iterative training function - can be any arbitrary training procedure.\n",
    "        intermediate_score = objective(step, alpha, beta)\n",
    "        # Feed the score back back to Tune.\n",
    "        tune.report(mean_loss=intermediate_score)\n",
    "\n",
    "\n",
    "analysis = tune.run(\n",
    "    training_function,\n",
    "    config={\n",
    "        \"alpha\": tune.grid_search([0.001, 0.01, 0.1]),\n",
    "        \"beta\": tune.choice([1, 2, 3])\n",
    "    })\n",
    "\n",
    "print(\"Best config: \", analysis.get_best_config(\n",
    "    metric=\"mean_loss\", mode=\"min\"))\n",
    "\n",
    "# Get a dataframe for analyzing trial results.\n",
    "df = analysis.results_df"
   ]
  },
  {
   "cell_type": "code",
   "execution_count": 25,
   "metadata": {},
   "outputs": [
    {
     "name": "stdout",
     "output_type": "stream",
     "text": [
      "Requirement already satisfied: ray[tune] in ./opt/anaconda3/lib/python3.8/site-packages (1.9.0)\n",
      "Requirement already satisfied: redis>=3.5.0 in ./opt/anaconda3/lib/python3.8/site-packages (from ray[tune]) (3.5.3)\n",
      "Requirement already satisfied: jsonschema in ./opt/anaconda3/lib/python3.8/site-packages (from ray[tune]) (3.2.0)\n",
      "Requirement already satisfied: pyyaml in ./opt/anaconda3/lib/python3.8/site-packages (from ray[tune]) (5.3.1)\n",
      "Requirement already satisfied: click>=7.0 in ./opt/anaconda3/lib/python3.8/site-packages (from ray[tune]) (7.1.2)\n",
      "Requirement already satisfied: numpy>=1.16; python_version < \"3.9\" in ./opt/anaconda3/lib/python3.8/site-packages (from ray[tune]) (1.19.2)\n",
      "Requirement already satisfied: filelock in ./opt/anaconda3/lib/python3.8/site-packages (from ray[tune]) (3.0.12)\n",
      "Requirement already satisfied: attrs in ./opt/anaconda3/lib/python3.8/site-packages (from ray[tune]) (20.3.0)\n",
      "Requirement already satisfied: protobuf>=3.15.3 in ./opt/anaconda3/lib/python3.8/site-packages (from ray[tune]) (3.15.6)\n",
      "Requirement already satisfied: grpcio>=1.28.1 in ./opt/anaconda3/lib/python3.8/site-packages (from ray[tune]) (1.32.0)\n",
      "Requirement already satisfied: msgpack<2.0.0,>=1.0.0 in ./opt/anaconda3/lib/python3.8/site-packages (from ray[tune]) (1.0.0)\n",
      "Requirement already satisfied: requests; extra == \"tune\" in ./opt/anaconda3/lib/python3.8/site-packages (from ray[tune]) (2.24.0)\n",
      "Requirement already satisfied: pandas; extra == \"tune\" in ./opt/anaconda3/lib/python3.8/site-packages (from ray[tune]) (1.1.3)\n",
      "Requirement already satisfied: tabulate; extra == \"tune\" in ./opt/anaconda3/lib/python3.8/site-packages (from ray[tune]) (0.8.9)\n",
      "Requirement already satisfied: tensorboardX>=1.9; extra == \"tune\" in ./opt/anaconda3/lib/python3.8/site-packages (from ray[tune]) (2.4.1)\n",
      "Requirement already satisfied: six>=1.11.0 in ./opt/anaconda3/lib/python3.8/site-packages (from jsonschema->ray[tune]) (1.15.0)\n",
      "Requirement already satisfied: pyrsistent>=0.14.0 in ./opt/anaconda3/lib/python3.8/site-packages (from jsonschema->ray[tune]) (0.17.3)\n",
      "Requirement already satisfied: setuptools in ./opt/anaconda3/lib/python3.8/site-packages (from jsonschema->ray[tune]) (50.3.1.post20201107)\n",
      "Requirement already satisfied: urllib3!=1.25.0,!=1.25.1,<1.26,>=1.21.1 in ./opt/anaconda3/lib/python3.8/site-packages (from requests; extra == \"tune\"->ray[tune]) (1.25.11)\n",
      "Requirement already satisfied: certifi>=2017.4.17 in ./opt/anaconda3/lib/python3.8/site-packages (from requests; extra == \"tune\"->ray[tune]) (2020.6.20)\n",
      "Requirement already satisfied: idna<3,>=2.5 in ./opt/anaconda3/lib/python3.8/site-packages (from requests; extra == \"tune\"->ray[tune]) (2.10)\n",
      "Requirement already satisfied: chardet<4,>=3.0.2 in ./opt/anaconda3/lib/python3.8/site-packages (from requests; extra == \"tune\"->ray[tune]) (3.0.4)\n",
      "Requirement already satisfied: python-dateutil>=2.7.3 in ./opt/anaconda3/lib/python3.8/site-packages (from pandas; extra == \"tune\"->ray[tune]) (2.8.1)\n",
      "Requirement already satisfied: pytz>=2017.2 in ./opt/anaconda3/lib/python3.8/site-packages (from pandas; extra == \"tune\"->ray[tune]) (2020.1)\n"
     ]
    }
   ],
   "source": [
    "!pip install ray[tune]"
   ]
  },
  {
   "cell_type": "code",
   "execution_count": 24,
   "metadata": {},
   "outputs": [],
   "source": [
    "import tensorflow as tf\n",
    "import warnings"
   ]
  },
  {
   "cell_type": "code",
   "execution_count": 27,
   "metadata": {},
   "outputs": [],
   "source": [
    "try:\n",
    "    tf.get_logger().setLevel('INFO')\n",
    "except Exception as exc:\n",
    "    print(exc)\n",
    "warnings.simplefilter(\"ignore\")"
   ]
  },
  {
   "cell_type": "code",
   "execution_count": 29,
   "metadata": {
    "scrolled": false
   },
   "outputs": [
    {
     "ename": "ImportError",
     "evalue": "cannot import name 'track' from 'ray' (/Users/roshnaey/opt/anaconda3/lib/python3.8/site-packages/ray/__init__.py)",
     "output_type": "error",
     "traceback": [
      "\u001b[0;31m---------------------------------------------------------------------------\u001b[0m",
      "\u001b[0;31mImportError\u001b[0m                               Traceback (most recent call last)",
      "\u001b[0;32m<ipython-input-29-8cc7a535c392>\u001b[0m in \u001b[0;36m<module>\u001b[0;34m\u001b[0m\n\u001b[1;32m      8\u001b[0m \u001b[0;32mimport\u001b[0m \u001b[0mray\u001b[0m\u001b[0;34m\u001b[0m\u001b[0;34m\u001b[0m\u001b[0m\n\u001b[1;32m      9\u001b[0m \u001b[0;32mfrom\u001b[0m \u001b[0mray\u001b[0m \u001b[0;32mimport\u001b[0m \u001b[0mtune\u001b[0m\u001b[0;34m\u001b[0m\u001b[0;34m\u001b[0m\u001b[0m\n\u001b[0;32m---> 10\u001b[0;31m \u001b[0;32mfrom\u001b[0m \u001b[0mray\u001b[0m \u001b[0;32mimport\u001b[0m \u001b[0mtrack\u001b[0m\u001b[0;34m\u001b[0m\u001b[0;34m\u001b[0m\u001b[0m\n\u001b[0m\u001b[1;32m     11\u001b[0m \u001b[0;32mfrom\u001b[0m \u001b[0mray\u001b[0m\u001b[0;34m.\u001b[0m\u001b[0mtune\u001b[0m\u001b[0;34m.\u001b[0m\u001b[0mschedulers\u001b[0m \u001b[0;32mimport\u001b[0m \u001b[0mPopulationBasedTraining\u001b[0m\u001b[0;34m\u001b[0m\u001b[0;34m\u001b[0m\u001b[0m\n\u001b[1;32m     12\u001b[0m \u001b[0;32mfrom\u001b[0m \u001b[0mray\u001b[0m\u001b[0;34m.\u001b[0m\u001b[0mtune\u001b[0m\u001b[0;34m.\u001b[0m\u001b[0mutils\u001b[0m \u001b[0;32mimport\u001b[0m \u001b[0mvalidate_save_restore\u001b[0m\u001b[0;34m\u001b[0m\u001b[0;34m\u001b[0m\u001b[0m\n",
      "\u001b[0;31mImportError\u001b[0m: cannot import name 'track' from 'ray' (/Users/roshnaey/opt/anaconda3/lib/python3.8/site-packages/ray/__init__.py)"
     ]
    }
   ],
   "source": [
    "import os\n",
    "import numpy as np\n",
    "import torch\n",
    "import torch.optim as optim\n",
    "from torchvision import datasets\n",
    "from ray.tune.examples.mnist_pytorch import train, test, ConvNet, get_data_loaders\n",
    "\n",
    "import ray\n",
    "from ray import tune\n",
    "from ray.tune import track\n",
    "from ray.tune.schedulers import PopulationBasedTraining\n",
    "from ray.tune.utils import validate_save_restore\n",
    "\n",
    "%matplotlib inline\n",
    "import matplotlib.style as style\n",
    "import matplotlib.pyplot as plt\n",
    "style.use(\"ggplot\")\n",
    "\n",
    "datasets.MNIST(\"~/data\", train=True, download=True)"
   ]
  },
  {
   "cell_type": "markdown",
   "metadata": {},
   "source": [
    "I was unable to import and run the ray.tune track package in python. I tried running it in Colab in addition to on my local pc but it did not work. \n",
    "Jessica and I both ran into this issue and we tried multiple tutorials but we were not able to pull any packages from ray or tune. "
   ]
  },
  {
   "cell_type": "code",
   "execution_count": null,
   "metadata": {},
   "outputs": [],
   "source": []
  }
 ],
 "metadata": {
  "kernelspec": {
   "display_name": "Python 3",
   "language": "python",
   "name": "python3"
  },
  "language_info": {
   "codemirror_mode": {
    "name": "ipython",
    "version": 3
   },
   "file_extension": ".py",
   "mimetype": "text/x-python",
   "name": "python",
   "nbconvert_exporter": "python",
   "pygments_lexer": "ipython3",
   "version": "3.8.5"
  }
 },
 "nbformat": 4,
 "nbformat_minor": 4
}
